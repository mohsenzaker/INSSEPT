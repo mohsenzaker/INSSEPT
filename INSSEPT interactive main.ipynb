{
 "cells": [
  {
   "cell_type": "markdown",
   "metadata": {},
   "source": [
    "# INSSEPT Interactive Query Tool\n",
    "This Jupyter notebook is provided as part of INSSEPT database to aid with easy querying and visualization based on site and number of stories. \n",
    "Users are kindly requested to acknowledge the use of this software and provides the following citations:\n",
    "Zaker Esteghamati, M.,Lee, J.,Musetich, M., Flint, M.M., (2019)_INSSEPT: An open-source relational database of seismic performance estimation to aid with early design of buildings_,Submitted to EarthquakeSpectra \n",
    "* Questions and comments are encouraged and can be directed to mohsenzaker@vt.edu (Mohsen Zaker Esteghamati)"
   ]
  },
  {
   "cell_type": "code",
   "execution_count": 3,
   "metadata": {
    "scrolled": false
   },
   "outputs": [
    {
     "data": {
      "application/vnd.jupyter.widget-view+json": {
       "model_id": "a5bdec42c27c4816b7f49d7b93a8d7d7",
       "version_major": 2,
       "version_minor": 0
      },
      "text/plain": [
       "VBox(children=(HBox(children=(Dropdown(description='Location:', options=('ALL', 'Tehran, Iran', 'Los Angeles, …"
      ]
     },
     "metadata": {},
     "output_type": "display_data"
    }
   ],
   "source": [
    "# importing necessary libraries\n",
    "import pymysql\n",
    "import pandas as pd\n",
    "import numpy as np\n",
    "import matplotlib.pyplot as plt\n",
    "import seaborn as sns\n",
    "import ipywidgets as widget\n",
    "from IPython.display import  clear_output\n",
    "import math \n",
    "\n",
    "# connecting to database\n",
    "conn= pymysql.connect(host='129.114.58.189', port=3306, user='inssept_read', passwd='INSSEPT_V0.0.1', db='INSSEPT')\n",
    "sqlCom= \"\"\"SELECT \n",
    "MATSYS.LatSys,BUILDING.Stories, BUILDING.FlrArea, BUILDING.AreaUnits, SITE.Location, SITE.SiteClass, \n",
    "INDVAR.IndVar, INDVAR.IndUnits,\n",
    "DEPVAR.DepVar, DEPVAR.DepUnits,\n",
    "RESULTS.Parameter, RESULTS.Value, RESULTS.ResRmrk\n",
    "FROM BUILDING\n",
    "INNER JOIN MATSYS ON BUILDING.MatSysID=MATSYS.MatSysID\n",
    "INNER JOIN SITE    ON BUILDING.SiteID = SITE.SiteID\n",
    "INNER JOIN RESULTS ON BUILDING.BldgID = RESULTS.BldgID\n",
    "INNER JOIN INDVAR  ON INDVAR.IndVarID = RESULTS.IndVarID\n",
    "INNER JOIN DEPVAR  ON DEPVAR.DepVarID = RESULTS.DepVarID\"\"\"\n",
    "data=pd.read_sql_query(sqlCom,conn)\n",
    "\n",
    "\n",
    "def uniqueVal(array):\n",
    "    unique=array.unique().tolist()\n",
    "    unique.insert(0,'ALL')\n",
    "    return unique\n",
    "    \n",
    "output=widget.Output()\n",
    "Visual=widget.Output()\n",
    "Location_list=uniqueVal(data.Location)\n",
    "Location_list.remove('CA')\n",
    "Location_list.remove(None)\n",
    "dropdown_Location=widget.Dropdown(options=Location_list,description='Location:')\n",
    "dropdown_Results=widget.Dropdown(options=uniqueVal(data.DepVar),description='Results:')\n",
    "slider_Stories=widget.IntRangeSlider(value=[3,6],min=1, max=20, step=1,orientation='Horizontal', description='Min Story No.')\n",
    "\n",
    "\n",
    "def CombinedFilter (Location,Story,DepVar):\n",
    "    output.clear_output()\n",
    "    Visual.clear_output()\n",
    "    if (Location=='ALL') & (DepVar=='ALL'): \n",
    "        combined_filter=data[(data.Stories >= Story[0]) & (data.Stories <= Story[1])]\n",
    "    elif (Location=='ALL'):\n",
    "         combined_filter=data[(data.DepVar==DepVar) & (data.Stories >= Story[0]) & (data.Stories <= Story[1])]\n",
    "    elif (Location=='California'):\n",
    "         if (DepVar=='ALL'): \n",
    "            combined_filter=data[((data.Location=='CA') | (data.Location=='California')) & (data.Stories >= Story[0]) & (data.Stories <= Story[1])]\n",
    "         else:\n",
    "            combined_filter=data[((data.Location=='CA') | (data.Location=='California')) &(data.DepVar==DepVar) & (data.Stories >= Story[0]) & (data.Stories <= Story[1])]\n",
    "    elif (DepVar=='ALL'):\n",
    "          combined_filter=data[(data.Location==Location) & (data.Stories >= Story[0]) & (data.Stories <= Story[1])]\n",
    "    else:\n",
    "         combined_filter=data[(data.DepVar==DepVar) & (data.Location==Location) & (data.Stories >= Story[0]) & (data.Stories <= Story[1])]\n",
    "    with output:\n",
    "        display(combined_filter)\n",
    "    with Visual:\n",
    "      Storymax=max(combined_filter['Stories'])\n",
    "      Units=data.DepUnits[0]\n",
    "      xticks_plot1=range(0,Storymax+2)\n",
    "      plot1=sns.scatterplot(x=combined_filter['Stories'],y=combined_filter['Value'],\n",
    "                           hue=combined_filter['LatSys'])   \n",
    "      plot1.set(xticklabels=xticks_plot1)\n",
    "      plot1.set(xticks=xticks_plot1)\n",
    "      plot1.set(xlabel='Story Nnumber', ylabel='%s'%(DepVar))\n",
    "      plt.legend(bbox_to_anchor=(1.05, 1), loc=2, borderaxespad=0.)\n",
    "      plt.show() \n",
    "      \n",
    "      flagArea=0\n",
    "      for check in combined_filter['FlrArea']:\n",
    "         if not math.isnan(check):\n",
    "            flagArea=1\n",
    "            \n",
    "      if flagArea:  \n",
    "          plot2=sns.scatterplot(x=combined_filter['FlrArea'],\n",
    "                            y=combined_filter['Value'],hue=combined_filter['LatSys'])\n",
    "          AreaMin=min(combined_filter['FlrArea'])\n",
    "          AreaMax=max(combined_filter['FlrArea'])\n",
    "          xticks_plot2=[int(AreaMin/2),int(AreaMin),int(1.5*AreaMax)]\n",
    "          plot2.set(xticklabels=xticks_plot2)\n",
    "          plot2.set(xticks=xticks_plot2)\n",
    "          plot2.set(xlabel='Floor Area', ylabel='%s'%(DepVar))\n",
    "          plt.legend(bbox_to_anchor=(1.05, 1), loc=2, borderaxespad=0.)\n",
    "          plt.show() \n",
    "def dropdown_Location_eventhandler(change):\n",
    "    CombinedFilter(change.new,slider_Stories.value,dropdown_Results.value)\n",
    "def slider_Stories_eventhandler(change):\n",
    "    CombinedFilter(dropdown_Location.value,change.new,dropdown_Results.value)\n",
    "def dropdown_Results_eventhandler(change):\n",
    "    CombinedFilter(dropdown_Location.value,slider_Stories.value,change.new)\n",
    " \n",
    "dropdown_Location.observe(dropdown_Location_eventhandler,names='value')\n",
    "slider_Stories.observe(slider_Stories_eventhandler,names='value')\n",
    "dropdown_Results.observe(dropdown_Results_eventhandler,names='value')\n",
    "\n",
    "Margin=widget.Layout(margin='10px 5px 10px 5px')\n",
    "Layout_widgets= widget.HBox([dropdown_Location,slider_Stories,dropdown_Results],layout=Margin)\n",
    "Layout_output=widget.Tab([output,Visual],layout=Margin)\n",
    "Layout_output.set_title(0,'Raw Data')\n",
    "Layout_output.set_title(1,'Visualization')\n",
    "LayoutFull=widget.VBox([Layout_widgets,Layout_output])\n",
    "display(LayoutFull)\n"
   ]
  },
  {
   "cell_type": "code",
   "execution_count": null,
   "metadata": {},
   "outputs": [],
   "source": []
  }
 ],
 "metadata": {
  "kernelspec": {
   "display_name": "Python 3",
   "language": "python",
   "name": "python3"
  },
  "language_info": {
   "codemirror_mode": {
    "name": "ipython",
    "version": 3
   },
   "file_extension": ".py",
   "mimetype": "text/x-python",
   "name": "python",
   "nbconvert_exporter": "python",
   "pygments_lexer": "ipython3",
   "version": "3.6.8"
  }
 },
 "nbformat": 4,
 "nbformat_minor": 2
}
